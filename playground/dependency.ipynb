{
 "cells": [
  {
   "cell_type": "code",
   "execution_count": 11,
   "metadata": {},
   "outputs": [],
   "source": [
    "import numpy as np\n",
    "import xarray as xr\n",
    "\n",
    "from scores.probability import crps_for_ensemble"
   ]
  },
  {
   "cell_type": "markdown",
   "metadata": {},
   "source": [
    "# No spatial dependence"
   ]
  },
  {
   "cell_type": "code",
   "execution_count": 12,
   "metadata": {},
   "outputs": [
    {
     "name": "stdout",
     "output_type": "stream",
     "text": [
      "0.17303456790123453 0.2781895999999999\n"
     ]
    }
   ],
   "source": [
    "fcst_ens_0 = [0, 0, 0, 0, 0, 0, 0, 0, 1]\n",
    "fcst_ens = xr.DataArray(\n",
    "    fcst_ens_0, dims=[\"ens_mem\"], coords={\"ens_mem\": np.arange(len(fcst_ens_0))}\n",
    ")\n",
    "fcst_det = xr.DataArray([1 / 9], dims=[\"ens_mem\"], coords={\"ens_mem\": [1]})\n",
    "\n",
    "\n",
    "crps_ensemble_list = []\n",
    "crps_deterministic_list = []\n",
    "for i in np.arange(1000):\n",
    "    value = np.random.choice([0, 1], p=[1 / 9, 8 / 9])\n",
    "    obs = xr.DataArray(obs)\n",
    "    crps_ensemble_list.append(\n",
    "        crps_for_ensemble(fcst_ens, obs, ensemble_member_dim=\"ens_mem\").item()\n",
    "    )\n",
    "    # Generate deterministic forecast\n",
    "    value2 = np.random.choice([0, 1], p=[8 / 9, 1 / 9])\n",
    "    fcst_det = xr.DataArray([value2], dims=[\"ens_mem\"], coords={\"ens_mem\": [1]})\n",
    "    crps_deterministic_list.append(\n",
    "        crps_for_ensemble(fcst_det, obs, ensemble_member_dim=\"ens_mem\").item()\n",
    "    )\n",
    "\n",
    "print(np.mean(crps_ensemble_list), np.mean(crps_deterministic_list))"
   ]
  },
  {
   "cell_type": "markdown",
   "metadata": {},
   "source": [
    "# Complete spatial dependence"
   ]
  },
  {
   "cell_type": "code",
   "execution_count": 17,
   "metadata": {},
   "outputs": [
    {
     "name": "stdout",
     "output_type": "stream",
     "text": [
      "0.26351959999999996 0.2711479999999999\n"
     ]
    }
   ],
   "source": [
    "fcst_ens_0 = [0] * 9\n",
    "fcst_ens_0 = xr.DataArray(\n",
    "    fcst_ens_0, dims=[\"ens_mem\"], coords={\"ens_mem\": np.arange(len(fcst_ens_0))}\n",
    ")\n",
    "\n",
    "fcst_ens_1 = [1] * 9\n",
    "fcst_ens_1 = xr.DataArray(\n",
    "    fcst_ens_1, dims=[\"ens_mem\"], coords={\"ens_mem\": np.arange(len(fcst_ens_1))}\n",
    ")\n",
    "fcst_det = xr.DataArray([1 / 9], dims=[\"ens_mem\"], coords={\"ens_mem\": [1]})\n",
    "\n",
    "\n",
    "crps_ensemble_list = []\n",
    "crps_deterministic_list = []\n",
    "for i in np.arange(1000):\n",
    "    value = np.random.choice([0, 1], p=[1 / 9, 8 / 9])\n",
    "    obs = xr.DataArray(obs)\n",
    "    # Generate ensemble with complete spatial dependence\n",
    "    if np.random.random() < 8 / 9:\n",
    "        fcst = fcst_ens_0\n",
    "    else:\n",
    "        fcst = fcst_ens_1\n",
    "    crps_ensemble_list.append(\n",
    "        crps_for_ensemble(fcst, obs, ensemble_member_dim=\"ens_mem\").item()\n",
    "    )\n",
    "    # Generate deterministic forecast\n",
    "    value2 = np.random.choice([0, 1], p=[8 / 9, 1 / 9])\n",
    "\n",
    "    fcst_det = xr.DataArray([value2], dims=[\"ens_mem\"], coords={\"ens_mem\": [1]})\n",
    "    crps_deterministic_list.append(\n",
    "        crps_for_ensemble(fcst_det, obs, ensemble_member_dim=\"ens_mem\").item()\n",
    "    )\n",
    "\n",
    "print(np.mean(crps_ensemble_list), np.mean(crps_deterministic_list))"
   ]
  },
  {
   "cell_type": "code",
   "execution_count": null,
   "metadata": {},
   "outputs": [],
   "source": []
  }
 ],
 "metadata": {
  "kernelspec": {
   "display_name": "scores",
   "language": "python",
   "name": "python3"
  },
  "language_info": {
   "codemirror_mode": {
    "name": "ipython",
    "version": 3
   },
   "file_extension": ".py",
   "mimetype": "text/x-python",
   "name": "python",
   "nbconvert_exporter": "python",
   "pygments_lexer": "ipython3",
   "version": "3.12.3"
  }
 },
 "nbformat": 4,
 "nbformat_minor": 2
}
