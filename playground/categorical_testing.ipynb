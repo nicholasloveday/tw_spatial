{
 "cells": [
  {
   "cell_type": "code",
   "execution_count": 27,
   "metadata": {},
   "outputs": [
    {
     "name": "stdout",
     "output_type": "stream",
     "text": [
      "honest BS=0.18545722000000092, \n",
      "hedge BS=0.16940018000000048, \n",
      "clim BS=0.1658172919999998\n",
      "honest BSS = -0.11844318383875874, \n",
      "hedge BSS =-0.021607444897849826\n"
     ]
    }
   ],
   "source": [
    "# Marginal (MRGL; 5-10%), Slight (SLGT; 10-20%), Moderate (MDT, 20-50%), and High (HIGH; >50%)\n",
    "import numpy as np\n",
    "\n",
    "clim_freq = 0.21\n",
    "\n",
    "length = 10000000\n",
    "fcst_honest = np.array([0.35] * length)\n",
    "fcst_hedge = np.array([0.15] * length)\n",
    "clim_score = np.array([0.21] * length)\n",
    "obs = np.random.choice([0, 1], size=length, p=[0.79, 0.21])\n",
    "\n",
    "honset_brier = np.mean((fcst_honest - obs) ** 2)\n",
    "hedge_brier = np.mean((fcst_hedge - obs) ** 2)\n",
    "clim_brier = np.mean((clim_score - obs) ** 2)\n",
    "\n",
    "print(f\"honest BS={honset_brier}, \\nhedge BS={hedge_brier}, \\nclim BS={clim_brier}\")\n",
    "print(\n",
    "    f\"honest BSS = {1 - (honset_brier / clim_brier)}, \\nhedge BSS ={1 - (hedge_brier / clim_brier)}\"\n",
    ")"
   ]
  },
  {
   "cell_type": "code",
   "execution_count": null,
   "metadata": {},
   "outputs": [],
   "source": []
  }
 ],
 "metadata": {
  "kernelspec": {
   "display_name": "scores",
   "language": "python",
   "name": "python3"
  },
  "language_info": {
   "codemirror_mode": {
    "name": "ipython",
    "version": 3
   },
   "file_extension": ".py",
   "mimetype": "text/x-python",
   "name": "python",
   "nbconvert_exporter": "python",
   "pygments_lexer": "ipython3",
   "version": "3.12.3"
  }
 },
 "nbformat": 4,
 "nbformat_minor": 2
}
