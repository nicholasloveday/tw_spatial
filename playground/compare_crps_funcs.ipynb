{
 "cells": [
  {
   "cell_type": "code",
   "execution_count": 2,
   "metadata": {},
   "outputs": [],
   "source": [
    "import scoringrules\n",
    "import xarray as xr\n",
    "import numpy as np\n",
    "\n",
    "from scores.probability import crps_for_ensemble\n",
    "import scores\n",
    "\n",
    "from typing import Literal, Optional, Sequence\n",
    "\n",
    "np.random.seed(100)"
   ]
  },
  {
   "cell_type": "code",
   "execution_count": null,
   "metadata": {},
   "outputs": [],
   "source": [
    "fcst_np = np.random.rand(20, 20, 20)\n",
    "obs_np = np.random.rand(20, 20)\n",
    "\n",
    "fcst = xr.DataArray(fcst_np, dims=[\"x\", \"y\", \"ens_mem\", coords={\"x\": np.arange(20), \"y\": np.arange(20), \"ens_mem\": np.arange(20)}])"
   ]
  }
 ],
 "metadata": {
  "kernelspec": {
   "display_name": "scores",
   "language": "python",
   "name": "python3"
  },
  "language_info": {
   "codemirror_mode": {
    "name": "ipython",
    "version": 3
   },
   "file_extension": ".py",
   "mimetype": "text/x-python",
   "name": "python",
   "nbconvert_exporter": "python",
   "pygments_lexer": "ipython3",
   "version": "3.12.3"
  }
 },
 "nbformat": 4,
 "nbformat_minor": 2
}
