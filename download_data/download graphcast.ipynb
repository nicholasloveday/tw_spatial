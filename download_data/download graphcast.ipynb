{
 "cells": [
  {
   "cell_type": "code",
   "execution_count": 1,
   "id": "e9dea05a-e9cc-4d21-af12-a4807db51d15",
   "metadata": {
    "tags": []
   },
   "outputs": [],
   "source": [
    "import s3fs\n",
    "import xarray as xr\n",
    "import fsspec"
   ]
  },
  {
   "cell_type": "code",
   "execution_count": 2,
   "id": "cd2e968b-9bd0-45c9-840c-d7c060be1768",
   "metadata": {
    "tags": []
   },
   "outputs": [],
   "source": [
    "# Initialize the S3 filesystem\n",
    "s3 = s3fs.S3FileSystem(anon=True)  # anon=True for public access"
   ]
  },
  {
   "cell_type": "code",
   "execution_count": 3,
   "id": "71d8cb06-5b9e-417a-b2cd-cd9471314601",
   "metadata": {
    "tags": []
   },
   "outputs": [],
   "source": [
    "year = 2024\n",
    "month = \"08\"\n",
    "day = \"24\""
   ]
  },
  {
   "cell_type": "code",
   "execution_count": 4,
   "id": "deab8414-61bd-4b9b-a877-611629a89ea9",
   "metadata": {
    "tags": []
   },
   "outputs": [
    {
     "name": "stdout",
     "output_type": "stream",
     "text": [
      "CPU times: user 2.69 s, sys: 1.12 s, total: 3.81 s\n",
      "Wall time: 4min 18s\n"
     ]
    }
   ],
   "source": [
    "%%time\n",
    "url = f\"https://noaa-oar-mlwp-data.s3.amazonaws.com/GRAP_v100/{year}/{month}{day}/GRAP_v100_GFS_{year}{month}{day}00_f000_f240_06.nc\"\n",
    "\n",
    "ds = xr.open_dataset(fsspec.open(url).open())"
   ]
  },
  {
   "cell_type": "code",
   "execution_count": null,
   "id": "fb2d30de-0d7b-4afd-9c24-11726853a4a1",
   "metadata": {},
   "outputs": [],
   "source": []
  }
 ],
 "metadata": {
  "kernelspec": {
   "display_name": "Python [conda env:jenv]",
   "language": "python",
   "name": "conda-env-jenv-py"
  },
  "language_info": {
   "codemirror_mode": {
    "name": "ipython",
    "version": 3
   },
   "file_extension": ".py",
   "mimetype": "text/x-python",
   "name": "python",
   "nbconvert_exporter": "python",
   "pygments_lexer": "ipython3",
   "version": "3.11.6"
  }
 },
 "nbformat": 4,
 "nbformat_minor": 5
}
