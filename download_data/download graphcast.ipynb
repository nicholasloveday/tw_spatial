{
 "cells": [
  {
   "cell_type": "markdown",
   "id": "9e95982d-3686-4d57-bbd9-07df26143832",
   "metadata": {
    "tags": []
   },
   "source": [
    "# Set up to work on laptop not Gadi"
   ]
  },
  {
   "cell_type": "code",
   "execution_count": null,
   "id": "3208b304-3d6f-4c3e-a9c3-378b79387f66",
   "metadata": {},
   "outputs": [],
   "source": [
    "import s3fs\n",
    "import xarray as xr\n",
    "import fsspec\n",
    "import pandas as pd\n",
    "import os"
   ]
  },
  {
   "cell_type": "code",
   "execution_count": null,
   "id": "cd2e968b-9bd0-45c9-840c-d7c060be1768",
   "metadata": {
    "tags": []
   },
   "outputs": [],
   "source": [
    "directory = \"../data/graphcast\"\n",
    "files = os.listdir(directory)"
   ]
  },
  {
   "cell_type": "code",
   "execution_count": null,
   "id": "71d8cb06-5b9e-417a-b2cd-cd9471314601",
   "metadata": {
    "tags": []
   },
   "outputs": [],
   "source": [
    "# Initialize the S3 filesystem\n",
    "s3 = s3fs.S3FileSystem(anon=True)  # anon=True for public access"
   ]
  },
  {
   "cell_type": "code",
   "execution_count": null,
   "id": "deab8414-61bd-4b9b-a877-611629a89ea9",
   "metadata": {
    "tags": []
   },
   "outputs": [],
   "source": [
    "# HRRR domain\n",
    "latN = 50.4\n",
    "latS = 24.25\n",
    "lonW = 360 - 123.8\n",
    "lonE = 360 - 71.2\n",
    "dates = pd.date_range(start=\"2022-01-01\", end=\"2024-08-30\")"
   ]
  },
  {
   "cell_type": "code",
   "execution_count": null,
   "id": "fb2d30de-0d7b-4afd-9c24-11726853a4a1",
   "metadata": {},
   "outputs": [],
   "source": [
    "for date in dates:\n",
    "    year = date.year\n",
    "    month = date.month\n",
    "    if month < 10:\n",
    "        month = f\"0{month}\"\n",
    "    day = date.day\n",
    "    if day < 10:\n",
    "        day = f\"0{day}\"\n",
    "\n",
    "    if f\"GRAP_v100_GFS_{year}{month}{day}_00.nc\" in files:\n",
    "        continue\n",
    "    url = (\n",
    "        f\"https://noaa-oar-mlwp-data.s3.amazonaws.com/GRAP_v100/{year}/\"\n",
    "        f\"{month}{day}/GRAP_v100_GFS_{year}{month}{day}00_f000_f240_06.nc\"\n",
    "    )\n",
    "    try:\n",
    "        ds = xr.open_dataset(fsspec.open(url).open())\n",
    "    except:\n",
    "        url = (\n",
    "            f\"https://noaa-oar-mlwp-data.s3.amazonaws.com/GRAP_v100/{year}/\"\n",
    "            f\"{month}{day}/GRAP_v100_gfs_{year}{month}{day}00_f000_f240_06.nc\"\n",
    "        )\n",
    "        try:\n",
    "            ds = xr.open_dataset(fsspec.open(url).open())\n",
    "        except FileNotFoundError:\n",
    "            print(f\"no data for {year}{month}{day}\")\n",
    "            continue\n",
    "\n",
    "    print(f\"fetched {date}\")\n",
    "    da = (\n",
    "        ds[\"apcp\"]\n",
    "        .sel(latitude=slice(latN, latS), longitude=slice(lonW, lonE))\n",
    "        .isel(time=slice(0, 10))\n",
    "    )\n",
    "    da.to_netcdf(f\"../data/graphcast/GRAP_v100_GFS_{year}{month}{day}_00.nc\")\n",
    "    print(f\"saved {date}\")"
   ]
  }
 ],
 "metadata": {
  "kernelspec": {
   "display_name": "Python [conda env:jenv]",
   "language": "python",
   "name": "conda-env-jenv-py"
  },
  "language_info": {
   "codemirror_mode": {
    "name": "ipython",
    "version": 3
   },
   "file_extension": ".py",
   "mimetype": "text/x-python",
   "name": "python",
   "nbconvert_exporter": "python",
   "pygments_lexer": "ipython3",
   "version": "3.11.6"
  }
 },
 "nbformat": 4,
 "nbformat_minor": 5
}
