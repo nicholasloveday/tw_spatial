{
 "cells": [
  {
   "cell_type": "code",
   "execution_count": 5,
   "id": "d2d7c488-2702-4efb-83d6-474cdecfdd30",
   "metadata": {},
   "outputs": [],
   "source": [
    "import pandas as pd\n",
    "import io\n",
    "import time\n",
    "import json\n",
    "from urllib.request import urlopen\n",
    "import numpy as np\n",
    "import os\n",
    "\n",
    "MAX_ATTEMPTS = 6\n",
    "MIN_VALID_MINS = 5 * 60\n",
    "INCH_2_MM = 25.4\n",
    "MAX_1_MIN = 38\n",
    "MAX_6_HOUR = 840\n",
    "OBS_DATA_PATH = \"/g/data/wa46/user/nl5316/tw_spatial/obs\""
   ]
  },
  {
   "cell_type": "code",
   "execution_count": 2,
   "id": "fa84be8d-dcec-44aa-84da-99ef5dac142e",
   "metadata": {
    "tags": []
   },
   "outputs": [],
   "source": [
    "def download_data(uri):\n",
    "    \"\"\"Fetch the data from the IEM\n",
    "\n",
    "    The IEM download service has some protections in place to keep the number\n",
    "    of inbound requests in check.  This function implements an exponential\n",
    "    backoff to keep individual downloads from erroring.\n",
    "\n",
    "    Args:\n",
    "      uri (string): URL to fetch\n",
    "\n",
    "    Returns:\n",
    "      string data\n",
    "    \"\"\"\n",
    "    attempt = 0\n",
    "    while attempt < MAX_ATTEMPTS:\n",
    "        try:\n",
    "            data = urlopen(uri, timeout=300).read().decode(\"utf-8\")\n",
    "            if data is not None and not data.startswith(\"ERROR\"):\n",
    "                return data\n",
    "        except Exception as exp:\n",
    "            print(f\"download_data({uri}) failed with {exp}\")\n",
    "            time.sleep(5)\n",
    "        attempt += 1\n",
    "\n",
    "    print(\"Exhausted attempts to download, returning empty data\")\n",
    "\n",
    "\n",
    "states = (\n",
    "    \"AK AL AR AZ CA CO CT DE FL GA HI IA ID IL IN KS KY LA MA MD ME MI MN \"\n",
    "    \"MO MS MT NC ND NE NH NJ NM NV NY OH OK OR PA RI SC SD TN TX UT VA VT \"\n",
    "    \"WA WI WV WY\"\n",
    ")\n",
    "networks = [f\"{state}_ASOS\" for state in states.split()]\n",
    "stations = []\n",
    "for network in networks:\n",
    "    # Get metadata\n",
    "    uri = \"https://mesonet.agron.iastate.edu/\" f\"geojson/network/{network}.geojson\"\n",
    "    data = urlopen(uri)\n",
    "    jdict = json.load(data)\n",
    "    for site in jdict[\"features\"]:\n",
    "        stations.append(site[\"properties\"][\"sid\"])"
   ]
  },
  {
   "cell_type": "code",
   "execution_count": 3,
   "id": "6d3d5fc7-1052-44cd-ab44-44595b35dadd",
   "metadata": {
    "tags": []
   },
   "outputs": [],
   "source": [
    "start_year = 2022\n",
    "end_year = 2024\n",
    "start_month = 1\n",
    "end_month = 9\n",
    "start_day = 1\n",
    "end_day = 1"
   ]
  },
  {
   "cell_type": "code",
   "execution_count": 7,
   "id": "6d03c22c",
   "metadata": {},
   "outputs": [
    {
     "name": "stdout",
     "output_type": "stream",
     "text": [
      "['PASC', 'PAEG', 'PAHN', 'PADQ', 'PABT', 'PAKN', 'PAVL', 'PAJN', 'PAKV', 'PABI', 'PAKW', 'PAHO', 'PAGK', 'PABR', 'PAKT', 'PACV', 'PAIL', 'PAOT', 'PAEN', 'PAFA', 'PANC', 'PACD', 'PABE']\n"
     ]
    }
   ],
   "source": [
    "file_names = os.listdir(\"../data/obs\")\n",
    "file_names = [name.replace(\".nc\", \"\") for name in file_names]\n",
    "print(file_names)"
   ]
  },
  {
   "cell_type": "code",
   "execution_count": 8,
   "id": "3859c826-0b33-4f15-bc10-a50338ce71b2",
   "metadata": {
    "tags": []
   },
   "outputs": [
    {
     "name": "stdout",
     "output_type": "stream",
     "text": [
      "An error occurred: Error tokenizing data. C error: Expected 7 fields in line 737171, saw 8\n",
      " for station PALH\n",
      "got data for PAMC\n",
      "got data for PAMR\n",
      "got data for PANN\n",
      "got data for PAOM\n",
      "got data for PAOR\n",
      "got data for PAQT\n"
     ]
    }
   ],
   "source": [
    "for station in stations:\n",
    "    if station in file_names:\n",
    "        continue\n",
    "    uri = f\"https://mesonet.agron.iastate.edu/cgi-bin/request/asos1min.py?station={station}&tz=UTC&year1={start_year}&month1={start_month}&day1={start_day}&hour1=0&minute1=0&year2={end_year}&month2={end_month}&day2={end_day}&hour2=23&minute2=59&vars=ptype&vars=precip&sample=1min&what=view&delim=comma&gis=yes\"\n",
    "    try:\n",
    "        data = download_data(uri)\n",
    "    except:\n",
    "        # print(f\"No data for {station}\")\n",
    "        continue\n",
    "    try:\n",
    "        df = pd.read_csv(io.StringIO(data))\n",
    "    except Exception as exp:\n",
    "        print(f\"An error occurred: {exp} for station {station}\")\n",
    "        continue\n",
    "    if len(df) == 0:\n",
    "        continue\n",
    "    df[\"precip\"] = df[\"precip\"].replace(\"M\", np.nan)\n",
    "    df[\"precip\"] = df[\"precip\"].astype(float)\n",
    "    df[\"precip\"] = df[\"precip\"] * INCH_2_MM\n",
    "    df[\"valid(UTC)\"] = pd.to_datetime(df[\"valid(UTC)\"])\n",
    "    df.set_index(\"valid(UTC)\", inplace=True)\n",
    "\n",
    "    df.loc[df[\"precip\"] >= MAX_1_MIN, \"precip\"] = np.nan\n",
    "\n",
    "    precip_df = df[\"precip\"]\n",
    "    df_resampled = precip_df.resample(\"6h\").agg(pd.Series.sum, min_count=MIN_VALID_MINS)\n",
    "    df_resampled = df_resampled\n",
    "    df_resampled.loc[df_resampled >= MAX_6_HOUR] = np.nan\n",
    "\n",
    "    df_resampled.attrs = {\n",
    "        \"station\": df.iloc[0][\"station\"],\n",
    "        \"lat\": df.iloc[0][\"lat\"],\n",
    "        \"lon\": df.iloc[0][\"lon\"],\n",
    "    }\n",
    "    da = df_resampled.to_xarray()\n",
    "    da.attrs = {\n",
    "        \"station\": df.iloc[0][\"station\"],\n",
    "        \"lat\": df.iloc[0][\"lat\"],\n",
    "        \"lon\": df.iloc[0][\"lon\"],\n",
    "    }\n",
    "    da.to_netcdf(f\"{OBS_DATA_PATH}/{station}.nc\")\n",
    "    print(f\"got data for {station}\")"
   ]
  },
  {
   "cell_type": "code",
   "execution_count": null,
   "id": "97aeefe1",
   "metadata": {},
   "outputs": [],
   "source": []
  }
 ],
 "metadata": {
  "kernelspec": {
   "display_name": "scores",
   "language": "python",
   "name": "python3"
  },
  "language_info": {
   "codemirror_mode": {
    "name": "ipython",
    "version": 3
   },
   "file_extension": ".py",
   "mimetype": "text/x-python",
   "name": "python",
   "nbconvert_exporter": "python",
   "pygments_lexer": "ipython3",
   "version": "3.12.3"
  }
 },
 "nbformat": 4,
 "nbformat_minor": 5
}
