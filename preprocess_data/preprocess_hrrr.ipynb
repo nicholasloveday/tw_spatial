{
 "cells": [
  {
   "cell_type": "code",
   "execution_count": null,
   "id": "d252fdb5-1686-45ab-aac8-0f9ab80b7108",
   "metadata": {
    "tags": []
   },
   "outputs": [],
   "source": [
    "import xarray as xr\n",
    "import pandas as pd\n",
    "import os\n",
    "\n",
    "HRRR_DATA_PATH = \"/g/data/wa46/user/nl5316/tw_spatial/hrrr/\"\n",
    "HRRR_LT_DATA_PATH = \"/g/data/wa46/user/nl5316/tw_spatial/hrrr_with_lead_time/\""
   ]
  },
  {
   "cell_type": "code",
   "execution_count": null,
   "id": "adffec19-f036-4b7f-94e2-5d54ae545f20",
   "metadata": {
    "tags": []
   },
   "outputs": [],
   "source": [
    "file_list = sorted([f for f in os.listdir(HRRR_DATA_PATH) if f.endswith(\".nc\")])\n",
    "file_list_dates = [file.split(\"_\")[1] for file in file_list]\n",
    "file_list_dates = pd.to_datetime(file_list_dates, format=\"%Y%m%d\")"
   ]
  },
  {
   "cell_type": "code",
   "execution_count": null,
   "id": "0ec4e990-c7a3-4703-b74c-ac2bd37f918c",
   "metadata": {
    "tags": []
   },
   "outputs": [],
   "source": [
    "# Get all valid times\n",
    "ds = xr.open_mfdataset(\n",
    "    f\"{HRRR_DATA_PATH}/*.nc\", concat_dim=\"init_time\", combine=\"nested\"\n",
    ")\n",
    "time_list = ds.time.values"
   ]
  },
  {
   "cell_type": "code",
   "execution_count": null,
   "id": "e7fbb2b1-e52b-43b9-83bb-f95bdc9235b4",
   "metadata": {
    "tags": []
   },
   "outputs": [],
   "source": [
    "for time in time_list:\n",
    "    time = pd.to_datetime(time)\n",
    "    # Get the models for the three previous initialisations before the time\n",
    "    previous_dates = file_list_dates[file_list_dates < time][-3:]\n",
    "    if len(previous_dates) == 0:\n",
    "        print(f\"No data for {time}\")\n",
    "        continue\n",
    "    previous_dates = previous_dates.strftime(\"%Y%m%d\")\n",
    "    file_list_select = [f\"hrrr_{date}_00z.nc\" for date in previous_dates]\n",
    "    ncs = [HRRR_DATA_PATH + \"/\" + nc for nc in file_list_select]\n",
    "    ds = xr.open_mfdataset(ncs, concat_dim=\"init_time\", combine=\"nested\")\n",
    "    ds = ds.assign_coords(init_time=pd.to_datetime(previous_dates, format=\"%Y%m%d\"))\n",
    "    ds = ds.sel(time=time)\n",
    "    lead_time = ds.time - ds.init_time\n",
    "    ds.coords[\"init_time\"] = lead_time.values\n",
    "    ds = ds.rename({\"init_time\": \"lead_time\"})\n",
    "    ds.to_netcdf(\n",
    "        HRRR_LT_DATA_PATH + f\"/hrrr_{time.strftime('%Y%m%d_%H')}_00.nc\"\n",
    "    )\n",
    "    print(f\"Saved data for {time}\")"
   ]
  },
  {
   "cell_type": "code",
   "execution_count": null,
   "id": "c334323d-d1d7-4948-aed5-8b66301542aa",
   "metadata": {},
   "outputs": [],
   "source": []
  }
 ],
 "metadata": {
  "kernelspec": {
   "display_name": "Python [conda env:jenv]",
   "language": "python",
   "name": "conda-env-jenv-py"
  },
  "language_info": {
   "codemirror_mode": {
    "name": "ipython",
    "version": 3
   },
   "file_extension": ".py",
   "mimetype": "text/x-python",
   "name": "python",
   "nbconvert_exporter": "python",
   "pygments_lexer": "ipython3",
   "version": "3.11.6"
  }
 },
 "nbformat": 4,
 "nbformat_minor": 5
}
