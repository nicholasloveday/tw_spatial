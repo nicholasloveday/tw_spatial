{
 "cells": [
  {
   "cell_type": "code",
   "execution_count": null,
   "id": "95a615c6-de24-412d-ae06-29a07dc552d7",
   "metadata": {
    "tags": []
   },
   "outputs": [],
   "source": [
    "import xarray as xr\n",
    "import os\n",
    "import numpy as np\n",
    "import pandas as pd\n",
    "\n",
    "from functools import partial\n",
    "\n",
    "GRAPH_LT_DATA_PATH = \"/g/data/wa46/user/nl5316/tw_spatial/graphcast_with_lead_time/\""
   ]
  },
  {
   "cell_type": "code",
   "execution_count": null,
   "id": "fb2889e9-1a4c-4c2f-a895-5da76fe303a0",
   "metadata": {
    "tags": []
   },
   "outputs": [],
   "source": [
    "file_list = sorted([f for f in os.listdir(GRAPH_LT_DATA_PATH) if f.endswith(\".nc\")])\n",
    "ncs = file_list\n",
    "ncs = [GRAPH_LT_DATA_PATH + \"/\" + nc for nc in ncs]"
   ]
  },
  {
   "cell_type": "code",
   "execution_count": null,
   "id": "2e16e5f9-2351-4c80-8dbc-6a478f24d280",
   "metadata": {
    "tags": []
   },
   "outputs": [],
   "source": [
    "broadcast_array = xr.DataArray(\n",
    "    [np.nan, np.nan, np.nan, np.nan, np.nan, np.nan, np.nan, np.nan],\n",
    "    dims=[\"lead_time\"],\n",
    "    coords={\"lead_time\": pd.timedelta_range(start=\"6h\", end=\"2d\", freq=\"6h\").values},\n",
    ")\n",
    "\n",
    "\n",
    "def broadcast(x, broadcast_array):\n",
    "    x = x.broadcast_like(broadcast_array)\n",
    "    return x\n",
    "\n",
    "\n",
    "partial_func = partial(broadcast, broadcast_array=broadcast_array)\n",
    "\n",
    "ds = xr.open_mfdataset(\n",
    "    ncs, combine=\"nested\", concat_dim=\"time\", preprocess=partial_func\n",
    ")"
   ]
  },
  {
   "cell_type": "code",
   "execution_count": null,
   "id": "0188f6fc-dc0f-4074-a757-238873da08c9",
   "metadata": {
    "tags": []
   },
   "outputs": [],
   "source": [
    "ds = ds.dropna(\"lead_time\", how=\"all\")"
   ]
  },
  {
   "cell_type": "code",
   "execution_count": null,
   "id": "e290e8b4-4f79-4b67-851c-73f0bf71d301",
   "metadata": {
    "tags": []
   },
   "outputs": [],
   "source": [
    "da = ds.apcp.compute()"
   ]
  },
  {
   "cell_type": "code",
   "execution_count": null,
   "id": "dfe3c0e0-5122-4f75-a398-0022f4db4ad2",
   "metadata": {
    "tags": []
   },
   "outputs": [],
   "source": [
    "da.to_netcdf(\"/g/data/wa46/user/nl5316/tw_spatial/graphcast_combined/graphcast.nc\")"
   ]
  },
  {
   "cell_type": "code",
   "execution_count": null,
   "id": "16298853-04bc-4b7a-8264-e9cb74c8c81a",
   "metadata": {
    "tags": []
   },
   "outputs": [],
   "source": []
  },
  {
   "cell_type": "code",
   "execution_count": null,
   "id": "ce7047d2-d304-4882-950a-2e6a757e9fa3",
   "metadata": {},
   "outputs": [],
   "source": []
  }
 ],
 "metadata": {
  "kernelspec": {
   "display_name": "Python [conda env:jenv]",
   "language": "python",
   "name": "conda-env-jenv-py"
  },
  "language_info": {
   "codemirror_mode": {
    "name": "ipython",
    "version": 3
   },
   "file_extension": ".py",
   "mimetype": "text/x-python",
   "name": "python",
   "nbconvert_exporter": "python",
   "pygments_lexer": "ipython3",
   "version": "3.11.6"
  }
 },
 "nbformat": 4,
 "nbformat_minor": 5
}
