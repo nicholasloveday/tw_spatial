{
 "cells": [
  {
   "cell_type": "code",
   "execution_count": 1,
   "id": "532197a7-3e91-4aa9-a9f1-93241681738c",
   "metadata": {
    "tags": []
   },
   "outputs": [],
   "source": [
    "import xarray as xr\n",
    "import pandas as pd\n",
    "import os\n",
    "\n",
    "\n",
    "GRAPH_DATA_PATH = \"/g/data/wa46/user/nl5316/tw_spatial/graphcast/\""
   ]
  },
  {
   "cell_type": "code",
   "execution_count": 2,
   "id": "60923165-2338-4d37-9295-b79ef28a99d5",
   "metadata": {
    "tags": []
   },
   "outputs": [],
   "source": [
    "file_list = sorted([f for f in os.listdir(GRAPH_DATA_PATH) if f.endswith(\".nc\")])\n",
    "\n",
    "def extract_init_time(file_name):\n",
    "    date_str = file_list[0].split(\"_\")[3]\n",
    "    return pd.to_datetime(date_str, format='%Y%m%d')"
   ]
  },
  {
   "cell_type": "code",
   "execution_count": 3,
   "id": "7545afa2-86cc-40bf-8038-703180426f8d",
   "metadata": {
    "tags": []
   },
   "outputs": [],
   "source": [
    "da = xr.open_dataarray(f\"{GRAPH_DATA_PATH}/GRAP_v100_GFS_20220102_00.nc\")"
   ]
  },
  {
   "cell_type": "code",
   "execution_count": 4,
   "id": "da7044e1-f931-4ee2-9f91-1899dbd2514b",
   "metadata": {
    "tags": []
   },
   "outputs": [
    {
     "name": "stdout",
     "output_type": "stream",
     "text": [
      "2022-01-01 00:00:00\n"
     ]
    }
   ],
   "source": [
    "dataarrays = []\n",
    "init_times = []\n",
    "\n",
    "for file in file_list:\n",
    "    init_time = extract_init_time(file)\n",
    "    try:\n",
    "        da = xr.open_dataarray(f\"{GRAPH_DATA_PATH}{file}\")\n",
    "    except:\n",
    "        print(init_time)\n",
    "        continue\n",
    "    dataarrays.append(da)\n",
    "    init_times.append(init_time)"
   ]
  },
  {
   "cell_type": "code",
   "execution_count": null,
   "id": "ad451d3a-171a-4569-8862-3fb4f77920f9",
   "metadata": {
    "tags": []
   },
   "outputs": [],
   "source": [
    "combined = xr.concat(dataarrays, pd.Index(init_times, name='init_time'))"
   ]
  },
  {
   "cell_type": "code",
   "execution_count": null,
   "id": "0e8fb2b8-ed3a-4aa9-a74f-559b8bd9a99c",
   "metadata": {
    "tags": []
   },
   "outputs": [],
   "source": [
    "combined"
   ]
  },
  {
   "cell_type": "code",
   "execution_count": null,
   "id": "cb1d2cf2-29f0-4e74-b12f-11fe06d2b9e9",
   "metadata": {},
   "outputs": [],
   "source": []
  }
 ],
 "metadata": {
  "kernelspec": {
   "display_name": "Python [conda env:jenv]",
   "language": "python",
   "name": "conda-env-jenv-py"
  },
  "language_info": {
   "codemirror_mode": {
    "name": "ipython",
    "version": 3
   },
   "file_extension": ".py",
   "mimetype": "text/x-python",
   "name": "python",
   "nbconvert_exporter": "python",
   "pygments_lexer": "ipython3",
   "version": "3.11.6"
  }
 },
 "nbformat": 4,
 "nbformat_minor": 5
}
